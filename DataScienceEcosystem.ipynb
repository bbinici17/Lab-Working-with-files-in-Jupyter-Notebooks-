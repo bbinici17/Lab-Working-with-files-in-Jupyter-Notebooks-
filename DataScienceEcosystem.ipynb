{
 "cells": [
  {
   "cell_type": "markdown",
   "id": "03722de2-d201-4bd6-8f3b-8c25b613c6a5",
   "metadata": {},
   "source": [
    "#Data Science Tools and Ecosystem"
   ]
  },
  {
   "cell_type": "markdown",
   "id": "54dcadb3-25d8-4760-9d2f-2854d1a613f2",
   "metadata": {},
   "source": [
    "In this notebook, Data Science Tools and Ecosystem are summarized."
   ]
  },
  {
   "cell_type": "markdown",
   "id": "4b3865fb-5da9-41fd-b176-9d00cff7f9b1",
   "metadata": {},
   "source": [
    "**Objectives**\n",
    "- Learn basic Python sytanx\n",
    "- Practice arithmetic operations in Python\n",
    "- Understand how to use Jupyter Notebooks"
   ]
  },
  {
   "cell_type": "markdown",
   "id": "6dbe1efe-f928-40e5-9dbf-b494a4f55a15",
   "metadata": {},
   "source": [
    "#Some of the popular languages that Data Scientists use are:\n",
    "1. Python\n",
    "2. R\n",
    "3. SQL\n",
    "4. Java\n",
    "5. Julia"
   ]
  },
  {
   "cell_type": "markdown",
   "id": "f96841f6-98af-453d-8f0e-19ed0f1f2869",
   "metadata": {},
   "source": [
    "#Some of the commonly used libraries used by Data Scientists include:\n",
    "1. NumPy\n",
    "2. Pandas\n",
    "3. Matplotlib\n",
    "4. Scikit-learn\n",
    "5. Tensorflow"
   ]
  },
  {
   "cell_type": "markdown",
   "id": "96f29de0-029a-4041-946a-57956d8a848d",
   "metadata": {},
   "source": [
    "| Data Science Tools              \n",
    "|------------------|\n",
    "|Jupyter Notebook  | \n",
    "|Rstudio           | \n",
    "|Apache Spark      |\n"
   ]
  },
  {
   "cell_type": "markdown",
   "id": "1a4d7bb4-bd8e-49ee-8ef4-14ae4c1016ba",
   "metadata": {},
   "source": [
    "###Below are a few examples of evaluating arithmetic expressions in Python.\n",
    "- Addition: '5+2=7'\n",
    "- Subtraction: '8-3=5'\n",
    "- Multiplication: '4*6=24'\n",
    "- Division: '9/3=3'"
   ]
  },
  {
   "cell_type": "code",
   "execution_count": null,
   "id": "5dc2ab43-df50-43e9-8996-04ab75cff106",
   "metadata": {},
   "outputs": [],
   "source": [
    "#This a simple arithmetic expression to multiply then add integers.\n",
    "x=(3*4)+5\n",
    "print(x)"
   ]
  },
  {
   "cell_type": "code",
   "execution_count": null,
   "id": "edf8e48e-3208-4751-9157-d62720dee290",
   "metadata": {},
   "outputs": [],
   "source": [
    "minitues=200\n",
    "hours=minitues/60\n",
    "print(hours)"
   ]
  },
  {
   "cell_type": "markdown",
   "id": "72623e00-18c1-4f05-8d53-924ec04683c4",
   "metadata": {},
   "source": [
    "##Author\n",
    "\n",
    "Bilge"
   ]
  },
  {
   "cell_type": "code",
   "execution_count": null,
   "id": "fa40f266-8ad8-42fe-9098-8e4a529022fb",
   "metadata": {},
   "outputs": [],
   "source": []
  }
 ],
 "metadata": {
  "kernelspec": {
   "display_name": "Python 3 (ipykernel)",
   "language": "python",
   "name": "python3"
  },
  "language_info": {
   "codemirror_mode": {
    "name": "ipython",
    "version": 3
   },
   "file_extension": ".py",
   "mimetype": "text/x-python",
   "name": "python",
   "nbconvert_exporter": "python",
   "pygments_lexer": "ipython3",
   "version": "3.11.9"
  }
 },
 "nbformat": 4,
 "nbformat_minor": 5
}
